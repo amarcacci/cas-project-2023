﻿{
  "metadata": {
    "name": "Flatten raw CIS benchmarks",
    "kernelspec": {
      "language": "scala",
      "name": "spark2-scala"
    },
    "language_info": {
      "codemirror_mode": "text/x-scala",
      "file_extension": ".scala",
      "mimetype": "text/x-scala",
      "name": "scala",
      "pygments_lexer": "scala"
    }
  },
  "nbformat": 4,
  "nbformat_minor": 2,
  "cells": [
    {
      "cell_type": "markdown",
      "metadata": {},
      "source": "## Import of the generated raw files into Spark"
    },
    {
      "cell_type": "code",
      "execution_count": 1,
      "metadata": {
        "autoscroll": "auto"
      },
      "outputs": [],
      "source": "%pyspark\nimport json\nfrom datetime import date\nfrom pyspark.sql.functions import explode, col\n\n\ndata_json \u003d spark.read.json(\"s3a://cis-raw/*\", multiLine\u003dTrue)\n#data_json.printSchema()\n"
    },
    {
      "cell_type": "markdown",
      "metadata": {},
      "source": "## Storage of the CIS scores into Parquet format in S3"
    },
    {
      "cell_type": "code",
      "execution_count": 3,
      "metadata": {
        "autoscroll": "auto"
      },
      "outputs": [],
      "source": "%pyspark\ndf_score \u003d data_json.drop(\"rules\")\ntoday \u003d date.today()\ntoday_string \u003d today.strftime(\"%Y/%m/%d\")\ndf_score.write.parquet(\"s3a://cis-refined/scores/\" + today_string) "
    },
    {
      "cell_type": "markdown",
      "metadata": {},
      "source": "## Storage of single CIS results in Praquet format in S3"
    },
    {
      "cell_type": "code",
      "execution_count": 5,
      "metadata": {
        "autoscroll": "auto"
      },
      "outputs": [],
      "source": "%pyspark\ndf_final \u003d data_json \\\n    .withColumn(\"rules_explode\", explode(\"rules\")) \\\n    .withColumn(\"rule_id\", col(\"rules_explode.rule-id\")) \\\n    .withColumn(\"rule_title\", col(\"rules_explode.rule-title\")) \\\n    .withColumn(\"rule_result\", col(\"rules_explode.result\")) \\\n    .drop(\"rules\", \"rules_explode\")\n\n\ntoday \u003d date.today()\ntoday_string \u003d today.strftime(\"%Y/%m/%d\")\ndf_final.write.parquet(\"s3a://cis-refined/results/\" + today_string) "
    },
    {
      "cell_type": "raw",
      "metadata": {
        "format": "text/plain"
      },
      "source": "%pyspark\n"
    }
  ]
}